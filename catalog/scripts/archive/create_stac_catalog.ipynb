{
 "cells": [
  {
   "cell_type": "code",
   "execution_count": 1,
   "id": "964d77d7",
   "metadata": {},
   "outputs": [],
   "source": [
    "import os\n",
    "from datetime import datetime\n",
    "import pystac\n",
    "import rasterio\n",
    "from rio_stac.stac import create_stac_item # Import rio-stac\n",
    "from google.cloud import storage\n",
    "from urllib.parse import urlparse\n",
    "from pathlib import Path\n",
    "import tempfile\n",
    "import shlex\n",
    "import subprocess\n",
    "import json\n",
    "import geopandas as gpd"
   ]
  },
  {
   "cell_type": "code",
   "execution_count": 2,
   "id": "c663e1f5",
   "metadata": {},
   "outputs": [],
   "source": [
    "\n",
    "#  Google Cloud Storage bucket and prefix (folder) where COGs are located.\n",
    "GCS_BUCKET = \"swhm_data\"  # e.g., \"my-imagery-bucket\"\n",
    "GCS_PREFIX = \"public/layers/\"   # e.g., \"sentinel-2/l2a/\" or leave empty for root\n",
    "\n",
    "# The public-facing URL for your GCS bucket.\n",
    "# This is used to create accessible links in the STAC catalog.\n",
    "# For GCS, it's typically \"https://storage.googleapis.com/{BUCKET_NAME}/{FILE_PATH}\"\n",
    "# You could also use a custom domain.\n",
    "ROOT_CATALOG_URL = f\"https://storage.googleapis.com/{GCS_BUCKET}\"\n",
    "CATALOG_JSON_DEST = f\"{ROOT_CATALOG_URL}/{GCS_PREFIX}\"\n",
    "# Where the script will save the generated STAC catalog on your local machine.\n",
    "OUTPUT_DIR = \"../../stac_catalog\"\n",
    "\n",
    "# Details for your STAC Catalog.\n",
    "CATALOG_ID = \"swhm-catalog\"\n",
    "CATALOG_TITLE = \"Stormwater Heatmap Catalog\"\n",
    "CATALOG_DESCRIPTION = \"A STAC catalog for COG imagery stored in GCS, created with rio-stac.\"\n",
    "\n",
    "client = storage.Client(project=\"swhm-prod\")\n",
    "bucket = client.bucket(GCS_BUCKET)\n",
    "# --- End of Configuration ---\n",
    "\n"
   ]
  },
  {
   "cell_type": "code",
   "execution_count": null,
   "id": "b14b3fcb",
   "metadata": {},
   "outputs": [],
   "source": []
  },
  {
   "cell_type": "code",
   "execution_count": 3,
   "id": "c028a057",
   "metadata": {},
   "outputs": [],
   "source": [
    "\n",
    "def list_blobs_with_prefix(\n",
    "    bucket_name: str,\n",
    "    prefix: str,\n",
    "    file_extension: str = '.tif',\n",
    "    delimiter: str = None\n",
    ") -> list[storage.blob.Blob]:\n",
    "    \"\"\"\n",
    "    Lists all the blobs in a GCS bucket with a given prefix and file extension,\n",
    "    and returns the Blob objects.\n",
    "    \"\"\"\n",
    "    \n",
    "    \n",
    "    blobs = client.list_blobs(\n",
    "        bucket_name,\n",
    "        prefix=prefix,\n",
    "        delimiter=delimiter\n",
    "    )\n",
    "\n",
    "    print(f\"Fetching blobs from bucket '{bucket_name}' with prefix '{prefix}'...\")\n",
    "\n",
    "    matching_blobs = []\n",
    "    for blob in blobs:\n",
    "        name_lower = blob.name.lower()\n",
    "        if name_lower.endswith(file_extension) or name_lower.endswith('.tiff'):\n",
    "            matching_blobs.append(blob)\n",
    "\n",
    "    if delimiter:\n",
    "        prefixes = getattr(blobs, 'prefixes', None)\n",
    "        if prefixes:\n",
    "            print(\"Sub-prefixes found:\")\n",
    "            for p in prefixes:\n",
    "                print(f\"  {p}\")\n",
    "\n",
    "    return matching_blobs"
   ]
  },
  {
   "cell_type": "code",
   "execution_count": 4,
   "id": "1d7cb638",
   "metadata": {},
   "outputs": [
    {
     "name": "stdout",
     "output_type": "stream",
     "text": [
      "Fetching blobs from bucket 'swhm_data' with prefix 'public/layers/'...\n"
     ]
    }
   ],
   "source": [
    "blobs = list_blobs_with_prefix(GCS_BUCKET, GCS_PREFIX)"
   ]
  },
  {
   "cell_type": "code",
   "execution_count": 5,
   "id": "d81fb615",
   "metadata": {},
   "outputs": [
    {
     "data": {
      "text/plain": [
       "[<Blob: swhm_data, public/layers/raster/Age_of_Imperviousness/Age_of_Imperviousness.tif, 1751472552998768>,\n",
       " <Blob: swhm_data, public/layers/raster/Flow_Duration_Index/Flow_Duration_Index.tif, 1751472553396022>,\n",
       " <Blob: swhm_data, public/layers/raster/HSPF_Land_Cover_Type/HSPF_Land_Cover_Type.tif, 1751472553874294>,\n",
       " <Blob: swhm_data, public/layers/raster/Hydrologic_Response_Units/Hydrologic_Response_Units.tif, 1751472554321731>,\n",
       " <Blob: swhm_data, public/layers/raster/Imperviousness/Imperviousness.tif, 1751472554814663>,\n",
       " <Blob: swhm_data, public/layers/raster/Land_Cover/Land_Cover.tif, 1751472555411437>,\n",
       " <Blob: swhm_data, public/layers/raster/Land_Use/Land_Use.tif, 1751472555877676>,\n",
       " <Blob: swhm_data, public/layers/raster/Population_Density/Population_Density.tif, 1751472556255188>,\n",
       " <Blob: swhm_data, public/layers/raster/Precipitation_mm/Precipitation_mm.tif, 1751472556599150>,\n",
       " <Blob: swhm_data, public/layers/raster/Runoff_mm/Runoff_mm.tif, 1751472556952871>,\n",
       " <Blob: swhm_data, public/layers/raster/Slope/Slope.tif, 1751472557360952>,\n",
       " <Blob: swhm_data, public/layers/raster/Slope_Categories/Slope_Categories.tif, 1751472557769098>,\n",
       " <Blob: swhm_data, public/layers/raster/Soils/Soils.tif, 1751472558191967>,\n",
       " <Blob: swhm_data, public/layers/raster/Total_Copper_Concentration/Total_Copper_Concentration.tif, 1751472558935503>,\n",
       " <Blob: swhm_data, public/layers/raster/Total_Kjeldahl_Nitrogen_Concentration/Total_Kjeldahl_Nitrogen_Concentration.tif, 1751472559311473>,\n",
       " <Blob: swhm_data, public/layers/raster/Total_Phosphorus_Concentration/Total_Phosphorus_Concentration.tif, 1751472559695363>,\n",
       " <Blob: swhm_data, public/layers/raster/Total_Suspended_Solids_Concentration/Total_Suspended_Solids_Concentration.tif, 1751472560073759>,\n",
       " <Blob: swhm_data, public/layers/raster/Total_Zinc_Concentration/Total_Zinc_Concentration.tif, 1751472560492947>,\n",
       " <Blob: swhm_data, public/layers/raster/Traffic/Traffic.tif, 1751472560879625>,\n",
       " <Blob: swhm_data, public/layers/raster/copper_concentration_ug_per_L/copper_concentration_ug_per_L.tif, 1751472561597262>]"
      ]
     },
     "execution_count": 5,
     "metadata": {},
     "output_type": "execute_result"
    }
   ],
   "source": [
    "blobs"
   ]
  },
  {
   "cell_type": "code",
   "execution_count": 6,
   "id": "a474fd81",
   "metadata": {},
   "outputs": [],
   "source": [
    "catalog = pystac.Catalog(id=\"raster-catalog\", description=\"Tutorial catalog.\")\n",
    "catalog.normalize_and_save(OUTPUT_DIR,  catalog_type = \"ABSOLUTE_PUBLISHED\")"
   ]
  },
  {
   "cell_type": "code",
   "execution_count": 7,
   "id": "519f5c74",
   "metadata": {},
   "outputs": [],
   "source": [
    "#collections \n",
    "\n",
    "\n",
    "# Define collection metadata\n",
    "collection_id = \"raster\"\n",
    "description = \"A collection of COGs for my project\"\n",
    "license = \"CC-BY-4.0\"  # or \"proprietary\", \"public-domain\", etc.\n",
    "datetime = datetime.now()\n",
    "collection = pystac.Collection(\n",
    "    id=collection_id,\n",
    "    description=description,\n",
    "    extent=pystac.Extent(\n",
    "        spatial=pystac.SpatialExtent([[-180.0, -90.0, 180.0, 90.0]]),  # update with real extent\n",
    "        temporal=pystac.TemporalExtent([[datetime, None]])  # update with real range\n",
    "    ),\n",
    "    license=license,\n",
    "    title=\"My STAC Collection\",\n",
    "    keywords=[\"COG\", \"satellite\", \"example\"],\n",
    ")\n",
    "\n",
    "# Optionally add extra metadata or summaries\n",
    "collection.add_link(pystac.Link(rel=\"license\", target=\"https://creativecommons.org/licenses/by/4.0/\"))\n",
    "\n",
    "# Optionally save to file\n"
   ]
  },
  {
   "cell_type": "code",
   "execution_count": 8,
   "id": "e5d37488",
   "metadata": {},
   "outputs": [
    {
     "data": {
      "text/plain": [
       "'https://storage.googleapis.com/swhm_data/public/layers/raster/Age_of_Imperviousness/Age_of_Imperviousness.json'"
      ]
     },
     "execution_count": 8,
     "metadata": {},
     "output_type": "execute_result"
    }
   ],
   "source": [
    "# blob.public_url\n",
    "\n",
    "# blob.public_url\n",
    "\n",
    "#blobs = blobs[0:3]\n",
    "blob = blobs[0]\n",
    "item_url = blob.public_url\n",
    "self_href = os.path.splitext(item_url)[0] + '.json'\n",
    "self_href"
   ]
  },
  {
   "cell_type": "code",
   "execution_count": 9,
   "id": "49d9813b",
   "metadata": {},
   "outputs": [],
   "source": [
    "props  = {\n",
    "    'gsd': 10,  # Ground Sample Distance in meters\n",
    "    'platform': 'sentinel-2a',\n",
    "    'constellation': 'sentinel-2'\n",
    "}\n",
    "for blob in blobs:\n",
    "    if blob.name.endswith(\".tif\") or blob.name.endswith(\".tiff\"):\n",
    "        # Build identifiers\n",
    "        #source_tif_gcs_uri = f\"gs://{GCS_BUCKET}/{blob.name}\"\n",
    "        item_url = blob.public_url\n",
    "        item_id = os.path.splitext(os.path.basename(blob.name))[0]\n",
    "        #public_href = source_tif_gcs_uri  # or replace with public URL if applicable\n",
    "\n",
    "        # Assume acquisition_datetime is determined from blob metadata or another source\n",
    "        acquisition_datetime = blob.time_created  # or set manually\n",
    "\n",
    "        # Create STAC item\n",
    "        stac_item = create_stac_item(\n",
    "            source=item_url,\n",
    "            input_datetime=acquisition_datetime,\n",
    "            #collection=collection_id,\n",
    "            id=item_id,\n",
    "            asset_name=\"image\",\n",
    "            properties= props,\n",
    "            asset_href=item_url,\n",
    "            asset_media_type=\"image/tiff; application=geotiff; profile=cloud-optimized\", \n",
    "            with_proj=True,\n",
    "            with_raster=False,\n",
    "        )\n",
    "\n",
    "        #self_href = os.path.splitext(item_url)[0] + '.json'\n",
    "        #stac_item.set_self_href(self_href)\n",
    "        # # Create output directory\n",
    "        # output_json = f\"{OUTPUT_DIR}/{item_id}/{item_id}.json\"\n",
    "        # output_dir = os.path.dirname(output_json)\n",
    "        # os.makedirs(output_dir, exist_ok=True)\n",
    "\n",
    "        # Write to file\n",
    "        # with open(output_json, \"w\") as f:\n",
    "        #     f.write(stac_item.to_dict_string() if hasattr(stac_item, \"to_dict_string\") else str(stac_item))\n",
    "\n",
    "        #catalog.add_item(stac_item)    \n",
    "        collection.add_item(stac_item)"
   ]
  },
  {
   "cell_type": "code",
   "execution_count": 10,
   "id": "b53492c4",
   "metadata": {},
   "outputs": [],
   "source": [
    "# Optional: add collection metadata\n",
    "collection.set_self_href(\"collection.json\")"
   ]
  },
  {
   "cell_type": "code",
   "execution_count": 11,
   "id": "a793164e",
   "metadata": {},
   "outputs": [
    {
     "data": {
      "text/plain": [
       "'../../stac_catalog'"
      ]
     },
     "execution_count": 11,
     "metadata": {},
     "output_type": "execute_result"
    }
   ],
   "source": [
    "OUTPUT_DIR"
   ]
  },
  {
   "cell_type": "code",
   "execution_count": null,
   "id": "7ea5bc37",
   "metadata": {},
   "outputs": [],
   "source": [
    "\n",
    "collection.normalize_hrefs(\n",
    "    root_href=\"https://storage.googleapis.com/swhm_data/public/layers/raster\"\n",
    ")\n",
    "\n"
   ]
  },
  {
   "cell_type": "code",
   "execution_count": 22,
   "id": "2fa97a14",
   "metadata": {},
   "outputs": [],
   "source": [
    "#save collection \n",
    "output_path = f\"{OUTPUT_DIR}/{collection_id}\"\n",
    "os.makedirs(os.path.dirname(output_path), exist_ok=True)\n",
    "#collection.normalize_hrefs(os.path.dirname(output_path))\n",
    "collection.save(dest_href=output_path, catalog_type=\"ABSOLUTE PUBLISHED\")"
   ]
  },
  {
   "cell_type": "code",
   "execution_count": null,
   "id": "6d053bf1",
   "metadata": {},
   "outputs": [],
   "source": []
  },
  {
   "cell_type": "markdown",
   "id": "b2e11974",
   "metadata": {},
   "source": [
    "# Upload to GCP "
   ]
  },
  {
   "cell_type": "code",
   "execution_count": 22,
   "id": "d89ce6f6",
   "metadata": {},
   "outputs": [],
   "source": [
    "def upload_stac_assets(root_dir, bucket, prefix):\n",
    "    \"\"\"\n",
    "    Finds and uploads STAC asset files to Google Cloud Storage.\n",
    "\n",
    "    This function walks through the specified root directory and looks for\n",
    "    JSON files that have the same name as their parent directory\n",
    "    (e.g., 'asset_a/asset_a.json'). It then uploads them to a\n",
    "    specified GCS bucket, maintaining the relative directory structure.\n",
    "\n",
    "    Args:\n",
    "        root_dir (str): The absolute path to the directory to search in.\n",
    "        bucket (str): The name of the GCS bucket to upload to.\n",
    "        prefix (str): The prefix (sub-folder) within the GCS bucket.\n",
    "    \"\"\"\n",
    "    print(f\"Starting scan in: {root_dir}\")\n",
    "    print(f\"Uploading to: gs://{bucket}/{prefix}\")\n",
    "    print(\"-\" * 30)\n",
    "\n",
    "    # os.walk is perfect for recursively scanning a directory tree.\n",
    "    # It yields the current directory path, a list of subdirectories, and a list of files.\n",
    "    # We use '_' for dirnames as it's not used in this loop.\n",
    "    for dirpath, _, filenames in os.walk(root_dir):\n",
    "        # Get the name of the current directory being processed\n",
    "        current_dir_name = os.path.basename(dirpath)\n",
    "        # Construct the expected filename (e.g., directory 'asset_a' -> file 'asset_a.json')\n",
    "        expected_filename = f\"{current_dir_name}.json\"\n",
    "\n",
    "        # Check if a file with the expected name exists in the current directory\n",
    "        if expected_filename in filenames:\n",
    "            # Construct the full local path to the source file\n",
    "            local_file_path = os.path.join(dirpath, expected_filename)\n",
    "\n",
    "            # Determine the relative path from the root_dir.\n",
    "            # This is used to replicate the directory structure in GCS.\n",
    "            relative_path = os.path.relpath(local_file_path, root_dir)\n",
    "\n",
    "            # Construct the destination path in GCS\n",
    "            gcs_destination = f\"gs://{bucket}/{prefix}{relative_path}\"\n",
    "\n",
    "            print(f\"Found matching asset: {local_file_path}\")\n",
    "            print(f\"  -> Uploading to: {gcs_destination}\")\n",
    "\n",
    "            try:\n",
    "                # Build the command as a list for security and reliability\n",
    "                gc_cmd = [\n",
    "                    \"gsutil\",\n",
    "                    \"cp\",\n",
    "                    local_file_path,\n",
    "                    gcs_destination\n",
    "                ]\n",
    "\n",
    "                # For logging, create a shell-safe string representation\n",
    "                bash_command = ' '.join(shlex.quote(arg) for arg in gc_cmd)\n",
    "                print(f\"  -> Executing: {bash_command}\")\n",
    "\n",
    "                # Execute the command\n",
    "                # check=True will raise an exception if gsutil returns an error\n",
    "                subprocess.run(gc_cmd, capture_output=True, text=True, check=True)\n",
    "\n",
    "                print(\"  -> Upload successful!\")\n",
    "\n",
    "            except FileNotFoundError:\n",
    "                print(\"  -> ERROR: 'gsutil' command not found.\")\n",
    "                print(\"     Please ensure the Google Cloud SDK is installed and in your PATH.\")\n",
    "                # Stop the script if gsutil isn't available\n",
    "                return\n",
    "            except subprocess.CalledProcessError as e:\n",
    "                # This block runs if gsutil returns a non-zero exit code (an error)\n",
    "                print(f\"  -> ERROR: Upload failed for {local_file_path}\")\n",
    "                print(f\"  -> gsutil stderr: {e.stderr}\")\n",
    "\n",
    "            print(\"-\" * 30)\n",
    "\n",
    "\n",
    "\n"
   ]
  },
  {
   "cell_type": "code",
   "execution_count": 24,
   "id": "b5a93464",
   "metadata": {},
   "outputs": [
    {
     "name": "stdout",
     "output_type": "stream",
     "text": [
      "Starting scan in: ../../stac_catalog/raster\n",
      "Uploading to: gs://swhm_data/public/layers/raster/\n",
      "------------------------------\n",
      "Found matching asset: ../../stac_catalog/raster/Traffic/Traffic.json\n",
      "  -> Uploading to: gs://swhm_data/public/layers/raster/Traffic/Traffic.json\n",
      "  -> Executing: gsutil cp ../../stac_catalog/raster/Traffic/Traffic.json gs://swhm_data/public/layers/raster/Traffic/Traffic.json\n",
      "  -> Upload successful!\n",
      "------------------------------\n",
      "Found matching asset: ../../stac_catalog/raster/Slope/Slope.json\n",
      "  -> Uploading to: gs://swhm_data/public/layers/raster/Slope/Slope.json\n",
      "  -> Executing: gsutil cp ../../stac_catalog/raster/Slope/Slope.json gs://swhm_data/public/layers/raster/Slope/Slope.json\n",
      "  -> Upload successful!\n",
      "------------------------------\n",
      "Found matching asset: ../../stac_catalog/raster/Land_Use/Land_Use.json\n",
      "  -> Uploading to: gs://swhm_data/public/layers/raster/Land_Use/Land_Use.json\n",
      "  -> Executing: gsutil cp ../../stac_catalog/raster/Land_Use/Land_Use.json gs://swhm_data/public/layers/raster/Land_Use/Land_Use.json\n",
      "  -> Upload successful!\n",
      "------------------------------\n",
      "Found matching asset: ../../stac_catalog/raster/Total_Suspended_Solids_Concentration/Total_Suspended_Solids_Concentration.json\n",
      "  -> Uploading to: gs://swhm_data/public/layers/raster/Total_Suspended_Solids_Concentration/Total_Suspended_Solids_Concentration.json\n",
      "  -> Executing: gsutil cp ../../stac_catalog/raster/Total_Suspended_Solids_Concentration/Total_Suspended_Solids_Concentration.json gs://swhm_data/public/layers/raster/Total_Suspended_Solids_Concentration/Total_Suspended_Solids_Concentration.json\n",
      "  -> Upload successful!\n",
      "------------------------------\n",
      "Found matching asset: ../../stac_catalog/raster/Land_Cover/Land_Cover.json\n",
      "  -> Uploading to: gs://swhm_data/public/layers/raster/Land_Cover/Land_Cover.json\n",
      "  -> Executing: gsutil cp ../../stac_catalog/raster/Land_Cover/Land_Cover.json gs://swhm_data/public/layers/raster/Land_Cover/Land_Cover.json\n",
      "  -> Upload successful!\n",
      "------------------------------\n",
      "Found matching asset: ../../stac_catalog/raster/Population_Density/Population_Density.json\n",
      "  -> Uploading to: gs://swhm_data/public/layers/raster/Population_Density/Population_Density.json\n",
      "  -> Executing: gsutil cp ../../stac_catalog/raster/Population_Density/Population_Density.json gs://swhm_data/public/layers/raster/Population_Density/Population_Density.json\n",
      "  -> Upload successful!\n",
      "------------------------------\n",
      "Found matching asset: ../../stac_catalog/raster/Total_Phosphorus_Concentration/Total_Phosphorus_Concentration.json\n",
      "  -> Uploading to: gs://swhm_data/public/layers/raster/Total_Phosphorus_Concentration/Total_Phosphorus_Concentration.json\n",
      "  -> Executing: gsutil cp ../../stac_catalog/raster/Total_Phosphorus_Concentration/Total_Phosphorus_Concentration.json gs://swhm_data/public/layers/raster/Total_Phosphorus_Concentration/Total_Phosphorus_Concentration.json\n",
      "  -> Upload successful!\n",
      "------------------------------\n",
      "Found matching asset: ../../stac_catalog/raster/Imperviousness/Imperviousness.json\n",
      "  -> Uploading to: gs://swhm_data/public/layers/raster/Imperviousness/Imperviousness.json\n",
      "  -> Executing: gsutil cp ../../stac_catalog/raster/Imperviousness/Imperviousness.json gs://swhm_data/public/layers/raster/Imperviousness/Imperviousness.json\n",
      "  -> Upload successful!\n",
      "------------------------------\n",
      "Found matching asset: ../../stac_catalog/raster/copper_concentration_ug_per_L/copper_concentration_ug_per_L.json\n",
      "  -> Uploading to: gs://swhm_data/public/layers/raster/copper_concentration_ug_per_L/copper_concentration_ug_per_L.json\n",
      "  -> Executing: gsutil cp ../../stac_catalog/raster/copper_concentration_ug_per_L/copper_concentration_ug_per_L.json gs://swhm_data/public/layers/raster/copper_concentration_ug_per_L/copper_concentration_ug_per_L.json\n",
      "  -> Upload successful!\n",
      "------------------------------\n",
      "Found matching asset: ../../stac_catalog/raster/Age_of_Imperviousness/Age_of_Imperviousness.json\n",
      "  -> Uploading to: gs://swhm_data/public/layers/raster/Age_of_Imperviousness/Age_of_Imperviousness.json\n",
      "  -> Executing: gsutil cp ../../stac_catalog/raster/Age_of_Imperviousness/Age_of_Imperviousness.json gs://swhm_data/public/layers/raster/Age_of_Imperviousness/Age_of_Imperviousness.json\n",
      "  -> Upload successful!\n",
      "------------------------------\n",
      "Found matching asset: ../../stac_catalog/raster/Flow_Duration_Index/Flow_Duration_Index.json\n",
      "  -> Uploading to: gs://swhm_data/public/layers/raster/Flow_Duration_Index/Flow_Duration_Index.json\n",
      "  -> Executing: gsutil cp ../../stac_catalog/raster/Flow_Duration_Index/Flow_Duration_Index.json gs://swhm_data/public/layers/raster/Flow_Duration_Index/Flow_Duration_Index.json\n",
      "  -> Upload successful!\n",
      "------------------------------\n",
      "Found matching asset: ../../stac_catalog/raster/Slope_Categories/Slope_Categories.json\n",
      "  -> Uploading to: gs://swhm_data/public/layers/raster/Slope_Categories/Slope_Categories.json\n",
      "  -> Executing: gsutil cp ../../stac_catalog/raster/Slope_Categories/Slope_Categories.json gs://swhm_data/public/layers/raster/Slope_Categories/Slope_Categories.json\n",
      "  -> Upload successful!\n",
      "------------------------------\n",
      "Found matching asset: ../../stac_catalog/raster/HSPF_Land_Cover_Type/HSPF_Land_Cover_Type.json\n",
      "  -> Uploading to: gs://swhm_data/public/layers/raster/HSPF_Land_Cover_Type/HSPF_Land_Cover_Type.json\n",
      "  -> Executing: gsutil cp ../../stac_catalog/raster/HSPF_Land_Cover_Type/HSPF_Land_Cover_Type.json gs://swhm_data/public/layers/raster/HSPF_Land_Cover_Type/HSPF_Land_Cover_Type.json\n",
      "  -> Upload successful!\n",
      "------------------------------\n",
      "Found matching asset: ../../stac_catalog/raster/Hydrologic_Response_Units/Hydrologic_Response_Units.json\n",
      "  -> Uploading to: gs://swhm_data/public/layers/raster/Hydrologic_Response_Units/Hydrologic_Response_Units.json\n",
      "  -> Executing: gsutil cp ../../stac_catalog/raster/Hydrologic_Response_Units/Hydrologic_Response_Units.json gs://swhm_data/public/layers/raster/Hydrologic_Response_Units/Hydrologic_Response_Units.json\n",
      "  -> Upload successful!\n",
      "------------------------------\n",
      "Found matching asset: ../../stac_catalog/raster/Precipitation_mm/Precipitation_mm.json\n",
      "  -> Uploading to: gs://swhm_data/public/layers/raster/Precipitation_mm/Precipitation_mm.json\n",
      "  -> Executing: gsutil cp ../../stac_catalog/raster/Precipitation_mm/Precipitation_mm.json gs://swhm_data/public/layers/raster/Precipitation_mm/Precipitation_mm.json\n",
      "  -> Upload successful!\n",
      "------------------------------\n",
      "Found matching asset: ../../stac_catalog/raster/Total_Copper_Concentration/Total_Copper_Concentration.json\n",
      "  -> Uploading to: gs://swhm_data/public/layers/raster/Total_Copper_Concentration/Total_Copper_Concentration.json\n",
      "  -> Executing: gsutil cp ../../stac_catalog/raster/Total_Copper_Concentration/Total_Copper_Concentration.json gs://swhm_data/public/layers/raster/Total_Copper_Concentration/Total_Copper_Concentration.json\n",
      "  -> Upload successful!\n",
      "------------------------------\n",
      "Found matching asset: ../../stac_catalog/raster/Soils/Soils.json\n",
      "  -> Uploading to: gs://swhm_data/public/layers/raster/Soils/Soils.json\n",
      "  -> Executing: gsutil cp ../../stac_catalog/raster/Soils/Soils.json gs://swhm_data/public/layers/raster/Soils/Soils.json\n",
      "  -> Upload successful!\n",
      "------------------------------\n",
      "Found matching asset: ../../stac_catalog/raster/Runoff_mm/Runoff_mm.json\n",
      "  -> Uploading to: gs://swhm_data/public/layers/raster/Runoff_mm/Runoff_mm.json\n",
      "  -> Executing: gsutil cp ../../stac_catalog/raster/Runoff_mm/Runoff_mm.json gs://swhm_data/public/layers/raster/Runoff_mm/Runoff_mm.json\n",
      "  -> Upload successful!\n",
      "------------------------------\n",
      "Found matching asset: ../../stac_catalog/raster/Total_Kjeldahl_Nitrogen_Concentration/Total_Kjeldahl_Nitrogen_Concentration.json\n",
      "  -> Uploading to: gs://swhm_data/public/layers/raster/Total_Kjeldahl_Nitrogen_Concentration/Total_Kjeldahl_Nitrogen_Concentration.json\n",
      "  -> Executing: gsutil cp ../../stac_catalog/raster/Total_Kjeldahl_Nitrogen_Concentration/Total_Kjeldahl_Nitrogen_Concentration.json gs://swhm_data/public/layers/raster/Total_Kjeldahl_Nitrogen_Concentration/Total_Kjeldahl_Nitrogen_Concentration.json\n",
      "  -> Upload successful!\n",
      "------------------------------\n",
      "Found matching asset: ../../stac_catalog/raster/Total_Zinc_Concentration/Total_Zinc_Concentration.json\n",
      "  -> Uploading to: gs://swhm_data/public/layers/raster/Total_Zinc_Concentration/Total_Zinc_Concentration.json\n",
      "  -> Executing: gsutil cp ../../stac_catalog/raster/Total_Zinc_Concentration/Total_Zinc_Concentration.json gs://swhm_data/public/layers/raster/Total_Zinc_Concentration/Total_Zinc_Concentration.json\n",
      "  -> Upload successful!\n",
      "------------------------------\n"
     ]
    }
   ],
   "source": [
    "upload_stac_assets(root_dir='../../stac_catalog/raster', bucket=GCS_BUCKET,prefix=f\"{GCS_PREFIX}raster/\")"
   ]
  },
  {
   "cell_type": "markdown",
   "id": "a0479689",
   "metadata": {},
   "source": [
    "# Vector Data"
   ]
  },
  {
   "cell_type": "markdown",
   "id": "72b85c56",
   "metadata": {},
   "source": [
    "## Vector Collection"
   ]
  },
  {
   "cell_type": "markdown",
   "id": "eaf9a399",
   "metadata": {},
   "source": [
    "# Scratch"
   ]
  }
 ],
 "metadata": {
  "kernelspec": {
   "display_name": ".venv (3.13.3)",
   "language": "python",
   "name": "python3"
  },
  "language_info": {
   "codemirror_mode": {
    "name": "ipython",
    "version": 3
   },
   "file_extension": ".py",
   "mimetype": "text/x-python",
   "name": "python",
   "nbconvert_exporter": "python",
   "pygments_lexer": "ipython3",
   "version": "3.13.3"
  }
 },
 "nbformat": 4,
 "nbformat_minor": 5
}
