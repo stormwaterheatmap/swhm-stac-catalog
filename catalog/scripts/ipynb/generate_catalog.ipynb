{
 "cells": [
  {
   "cell_type": "code",
   "execution_count": 7,
   "id": "b4e166b3",
   "metadata": {},
   "outputs": [],
   "source": [
    "import pystac\n",
    "from google.cloud import storage\n",
    "import subprocess\n",
    "\n",
    "# --- Configuration ---\n",
    "# The name of your GCS bucket\n",
    "BUCKET_NAME = 'swhm_data'\n",
    "\n",
    "# The \"folder\" or prefix where your STAC items are located\n",
    "PREFIX = 'public/layers/raster/'\n",
    "\n",
    "# The desired output filename for your catalog\n",
    "OUTPUT_FILE = 'catalog.json'\n",
    "# --- End Configuration ---\n",
    "\n"
   ]
  },
  {
   "cell_type": "code",
   "execution_count": 5,
   "id": "8eb6f076",
   "metadata": {},
   "outputs": [],
   "source": [
    "\"\"\"\n",
    "    Scans a GCS bucket for STAC item JSON files and returns a list of their public URLs.\n",
    "    \"\"\"\n",
    "def create_gcs_catalog():    # The base public URL for all items in the bucket.\n",
    "    root_href = f\"https://storage.googleapis.com/{BUCKET_NAME}/\"\n",
    "\n",
    "    print(f\"🔍 Scanning gs://{BUCKET_NAME}/{PREFIX} for .json files...\")\n",
    "    storage_client = storage.Client()\n",
    "    blobs = storage_client.list_blobs(BUCKET_NAME, prefix=PREFIX)\n",
    "\n",
    "    urls = []\n",
    "\n",
    "    for blob in blobs:\n",
    "        if blob.name.endswith('.json'):\n",
    "            item_url = f\"{root_href}{blob.name}\"\n",
    "            urls.append(item_url)\n",
    "\n",
    "    print(f\"✅ Found {len(urls)} STAC items.\")\n",
    "    return urls"
   ]
  },
  {
   "cell_type": "code",
   "execution_count": 6,
   "id": "971ad763",
   "metadata": {},
   "outputs": [
    {
     "name": "stdout",
     "output_type": "stream",
     "text": [
      "🔍 Scanning gs://swhm_data/public/layers/raster/ for .json files...\n",
      "✅ Found 21 STAC items.\n"
     ]
    },
    {
     "data": {
      "text/plain": [
       "['https://storage.googleapis.com/swhm_data/public/layers/raster/Age_of_Imperviousness/Age_of_Imperviousness.json',\n",
       " 'https://storage.googleapis.com/swhm_data/public/layers/raster/Flow_Duration_Index/Flow_Duration_Index.json',\n",
       " 'https://storage.googleapis.com/swhm_data/public/layers/raster/HSPF_Land_Cover_Type/HSPF_Land_Cover_Type.json',\n",
       " 'https://storage.googleapis.com/swhm_data/public/layers/raster/Hydrologic_Response_Units/Hydrologic_Response_Units.json',\n",
       " 'https://storage.googleapis.com/swhm_data/public/layers/raster/Imperviousness/Imperviousness.json',\n",
       " 'https://storage.googleapis.com/swhm_data/public/layers/raster/Land_Cover/Land_Cover.json',\n",
       " 'https://storage.googleapis.com/swhm_data/public/layers/raster/Land_Use/Land_Use.json',\n",
       " 'https://storage.googleapis.com/swhm_data/public/layers/raster/Population_Density/Population_Density.json',\n",
       " 'https://storage.googleapis.com/swhm_data/public/layers/raster/Precipitation_mm/Precipitation_mm.json',\n",
       " 'https://storage.googleapis.com/swhm_data/public/layers/raster/Runoff_mm/Runoff_mm.json',\n",
       " 'https://storage.googleapis.com/swhm_data/public/layers/raster/Slope/Slope.json',\n",
       " 'https://storage.googleapis.com/swhm_data/public/layers/raster/Slope_Categories/Slope_Categories.json',\n",
       " 'https://storage.googleapis.com/swhm_data/public/layers/raster/Soils/Soils.json',\n",
       " 'https://storage.googleapis.com/swhm_data/public/layers/raster/Soils_test/Soils_test.json',\n",
       " 'https://storage.googleapis.com/swhm_data/public/layers/raster/Total_Copper_Concentration/Total_Copper_Concentration.json',\n",
       " 'https://storage.googleapis.com/swhm_data/public/layers/raster/Total_Kjeldahl_Nitrogen_Concentration/Total_Kjeldahl_Nitrogen_Concentration.json',\n",
       " 'https://storage.googleapis.com/swhm_data/public/layers/raster/Total_Phosphorus_Concentration/Total_Phosphorus_Concentration.json',\n",
       " 'https://storage.googleapis.com/swhm_data/public/layers/raster/Total_Suspended_Solids_Concentration/Total_Suspended_Solids_Concentration.json',\n",
       " 'https://storage.googleapis.com/swhm_data/public/layers/raster/Total_Zinc_Concentration/Total_Zinc_Concentration.json',\n",
       " 'https://storage.googleapis.com/swhm_data/public/layers/raster/Traffic/Traffic.json',\n",
       " 'https://storage.googleapis.com/swhm_data/public/layers/raster/copper_concentration_ug_per_L/copper_concentration_ug_per_L.json']"
      ]
     },
     "execution_count": 6,
     "metadata": {},
     "output_type": "execute_result"
    }
   ],
   "source": [
    "create_gcs_catalog()"
   ]
  },
  {
   "cell_type": "code",
   "execution_count": null,
   "id": "d888d173",
   "metadata": {},
   "outputs": [],
   "source": [
    "\n",
    "def create_gcs_catalog():\n",
    "    \"\"\"\n",
    "    Scans a GCS bucket for STAC items and generates a root catalog with absolute URLs.\n",
    "    \"\"\"\n",
    "    # The base public URL for all items in the bucket.\n",
    "    root_href = f\"https://storage.googleapis.com/{BUCKET_NAME}/\"\n",
    "\n",
    "    # 1. Initialize a new STAC Catalog\n",
    "    root_catalog = pystac.Catalog(\n",
    "        id='gcp-root-catalog',\n",
    "        description='Root catalog for all STAC items stored on Google Cloud Storage.'\n",
    "    )\n",
    "\n",
    "    # 2. Connect to GCS and list the item files\n",
    "    print(f\"🔍 Scanning gs://{BUCKET_NAME}/{PREFIX} for .json files...\")\n",
    "    storage_client = storage.Client()\n",
    "    blobs = storage_client.list_blobs(BUCKET_NAME, prefix=PREFIX)\n",
    "\n",
    "    item_count = 0\n",
    "    for blob in blobs:\n",
    "        # We only want to link to the item JSON files\n",
    "        if blob.name.endswith('.json'):\n",
    "            item_count += 1\n",
    "            \n",
    "            # Construct the full, public URL for the item\n",
    "            item_url = f\"{root_href}{blob.name}\"\n",
    "            print(item_url)\n",
    "            print(f\"  -> Adding link to: {item_url}\")\n",
    "            \n",
    "            # 3. Add a link to the item in the catalog\n",
    "            # This does not download the file, it just creates the link\n",
    "            root_catalog.add_link(\n",
    "                pystac.Link(rel=\"item\",\n",
    "                            target=item_url,\n",
    "                            media_type=\"application/json\")\n",
    "            )\n",
    "\n",
    "    if item_count == 0:\n",
    "        print(\"⚠️ No .json files found. Please check your BUCKET_NAME and PREFIX.\")\n",
    "        return\n",
    "\n",
    "    # 4. Save the catalog file\n",
    "    # CatalogType.ABSOLUTE_PUBLISHED is best for catalogs with absolute online URLs.\n",
    "    root_catalog.normalize_hrefs(root_href) # Sets the base for any relative links\n",
    "    root_catalog.save(catalog_type=pystac.CatalogType.ABSOLUTE_PUBLISHED,\n",
    "                      dest_href=OUTPUT_FILE) \n",
    "    \n",
    "    print(f\"\\n✅ Success! Catalog with {item_count} items saved to '{OUTPUT_FILE}'.\")\n",
    "    print(f\"You should upload '{OUTPUT_FILE}' to gs://{BUCKET_NAME}/\")\n",
    "\n"
   ]
  },
  {
   "cell_type": "code",
   "execution_count": 5,
   "id": "21a3d396",
   "metadata": {},
   "outputs": [
    {
     "name": "stdout",
     "output_type": "stream",
     "text": [
      "🔍 Scanning gs://swhm_data/public/layers/raster/ for .json files...\n",
      "https://storage.googleapis.com/swhm_data/public/layers/raster/Age_of_Imperviousness/Age_of_Imperviousness.json\n",
      "  -> Adding link to: https://storage.googleapis.com/swhm_data/public/layers/raster/Age_of_Imperviousness/Age_of_Imperviousness.json\n",
      "https://storage.googleapis.com/swhm_data/public/layers/raster/Flow_Duration_Index/Flow_Duration_Index.json\n",
      "  -> Adding link to: https://storage.googleapis.com/swhm_data/public/layers/raster/Flow_Duration_Index/Flow_Duration_Index.json\n",
      "https://storage.googleapis.com/swhm_data/public/layers/raster/HSPF_Land_Cover_Type/HSPF_Land_Cover_Type.json\n",
      "  -> Adding link to: https://storage.googleapis.com/swhm_data/public/layers/raster/HSPF_Land_Cover_Type/HSPF_Land_Cover_Type.json\n",
      "https://storage.googleapis.com/swhm_data/public/layers/raster/Hydrologic_Response_Units/Hydrologic_Response_Units.json\n",
      "  -> Adding link to: https://storage.googleapis.com/swhm_data/public/layers/raster/Hydrologic_Response_Units/Hydrologic_Response_Units.json\n",
      "https://storage.googleapis.com/swhm_data/public/layers/raster/Imperviousness/Imperviousness.json\n",
      "  -> Adding link to: https://storage.googleapis.com/swhm_data/public/layers/raster/Imperviousness/Imperviousness.json\n",
      "https://storage.googleapis.com/swhm_data/public/layers/raster/Land_Cover/Land_Cover.json\n",
      "  -> Adding link to: https://storage.googleapis.com/swhm_data/public/layers/raster/Land_Cover/Land_Cover.json\n",
      "https://storage.googleapis.com/swhm_data/public/layers/raster/Land_Use/Land_Use.json\n",
      "  -> Adding link to: https://storage.googleapis.com/swhm_data/public/layers/raster/Land_Use/Land_Use.json\n",
      "https://storage.googleapis.com/swhm_data/public/layers/raster/Population_Density/Population_Density.json\n",
      "  -> Adding link to: https://storage.googleapis.com/swhm_data/public/layers/raster/Population_Density/Population_Density.json\n",
      "https://storage.googleapis.com/swhm_data/public/layers/raster/Precipitation_mm/Precipitation_mm.json\n",
      "  -> Adding link to: https://storage.googleapis.com/swhm_data/public/layers/raster/Precipitation_mm/Precipitation_mm.json\n",
      "https://storage.googleapis.com/swhm_data/public/layers/raster/Runoff_mm/Runoff_mm.json\n",
      "  -> Adding link to: https://storage.googleapis.com/swhm_data/public/layers/raster/Runoff_mm/Runoff_mm.json\n",
      "https://storage.googleapis.com/swhm_data/public/layers/raster/Slope/Slope.json\n",
      "  -> Adding link to: https://storage.googleapis.com/swhm_data/public/layers/raster/Slope/Slope.json\n",
      "https://storage.googleapis.com/swhm_data/public/layers/raster/Slope_Categories/Slope_Categories.json\n",
      "  -> Adding link to: https://storage.googleapis.com/swhm_data/public/layers/raster/Slope_Categories/Slope_Categories.json\n",
      "https://storage.googleapis.com/swhm_data/public/layers/raster/Soils/Soils.json\n",
      "  -> Adding link to: https://storage.googleapis.com/swhm_data/public/layers/raster/Soils/Soils.json\n",
      "https://storage.googleapis.com/swhm_data/public/layers/raster/Soils_test/Soils_test.json\n",
      "  -> Adding link to: https://storage.googleapis.com/swhm_data/public/layers/raster/Soils_test/Soils_test.json\n",
      "https://storage.googleapis.com/swhm_data/public/layers/raster/Total_Copper_Concentration/Total_Copper_Concentration.json\n",
      "  -> Adding link to: https://storage.googleapis.com/swhm_data/public/layers/raster/Total_Copper_Concentration/Total_Copper_Concentration.json\n",
      "https://storage.googleapis.com/swhm_data/public/layers/raster/Total_Kjeldahl_Nitrogen_Concentration/Total_Kjeldahl_Nitrogen_Concentration.json\n",
      "  -> Adding link to: https://storage.googleapis.com/swhm_data/public/layers/raster/Total_Kjeldahl_Nitrogen_Concentration/Total_Kjeldahl_Nitrogen_Concentration.json\n",
      "https://storage.googleapis.com/swhm_data/public/layers/raster/Total_Phosphorus_Concentration/Total_Phosphorus_Concentration.json\n",
      "  -> Adding link to: https://storage.googleapis.com/swhm_data/public/layers/raster/Total_Phosphorus_Concentration/Total_Phosphorus_Concentration.json\n",
      "https://storage.googleapis.com/swhm_data/public/layers/raster/Total_Suspended_Solids_Concentration/Total_Suspended_Solids_Concentration.json\n",
      "  -> Adding link to: https://storage.googleapis.com/swhm_data/public/layers/raster/Total_Suspended_Solids_Concentration/Total_Suspended_Solids_Concentration.json\n",
      "https://storage.googleapis.com/swhm_data/public/layers/raster/Total_Zinc_Concentration/Total_Zinc_Concentration.json\n",
      "  -> Adding link to: https://storage.googleapis.com/swhm_data/public/layers/raster/Total_Zinc_Concentration/Total_Zinc_Concentration.json\n",
      "https://storage.googleapis.com/swhm_data/public/layers/raster/Traffic/Traffic.json\n",
      "  -> Adding link to: https://storage.googleapis.com/swhm_data/public/layers/raster/Traffic/Traffic.json\n",
      "https://storage.googleapis.com/swhm_data/public/layers/raster/catalog.json\n",
      "  -> Adding link to: https://storage.googleapis.com/swhm_data/public/layers/raster/catalog.json\n",
      "https://storage.googleapis.com/swhm_data/public/layers/raster/copper_concentration_ug_per_L/copper_concentration_ug_per_L.json\n",
      "  -> Adding link to: https://storage.googleapis.com/swhm_data/public/layers/raster/copper_concentration_ug_per_L/copper_concentration_ug_per_L.json\n",
      "\n",
      "✅ Success! Catalog with 22 items saved to 'catalog.json'.\n",
      "You should upload 'catalog.json' to gs://swhm_data/\n"
     ]
    }
   ],
   "source": [
    "create_gcs_catalog()"
   ]
  }
 ],
 "metadata": {
  "kernelspec": {
   "display_name": ".venv (3.13.3)",
   "language": "python",
   "name": "python3"
  },
  "language_info": {
   "codemirror_mode": {
    "name": "ipython",
    "version": 3
   },
   "file_extension": ".py",
   "mimetype": "text/x-python",
   "name": "python",
   "nbconvert_exporter": "python",
   "pygments_lexer": "ipython3",
   "version": "3.13.3"
  }
 },
 "nbformat": 4,
 "nbformat_minor": 5
}
